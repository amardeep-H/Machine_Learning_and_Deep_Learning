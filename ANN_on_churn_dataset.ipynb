{
  "nbformat": 4,
  "nbformat_minor": 0,
  "metadata": {
    "colab": {
      "name": "ANN on churn dataset.ipynb",
      "provenance": [],
      "mount_file_id": "1s_EAUhm0HTX7V1D2DEUNMn23rUiqhjK3",
      "authorship_tag": "ABX9TyPjWcuD0fkrX3FWFtcGrTVN",
      "include_colab_link": true
    },
    "kernelspec": {
      "name": "python3",
      "display_name": "Python 3"
    },
    "language_info": {
      "name": "python"
    },
    "accelerator": "GPU"
  },
  "cells": [
    {
      "cell_type": "markdown",
      "metadata": {
        "id": "view-in-github",
        "colab_type": "text"
      },
      "source": [
        "<a href=\"https://colab.research.google.com/github/amardeep-H/Machine_Learning_and_Deep_Learning/blob/master/ANN_on_churn_dataset.ipynb\" target=\"_parent\"><img src=\"https://colab.research.google.com/assets/colab-badge.svg\" alt=\"Open In Colab\"/></a>"
      ]
    },
    {
      "cell_type": "code",
      "metadata": {
        "colab": {
          "base_uri": "https://localhost:8080/"
        },
        "id": "xZzYMYwcNd2I",
        "outputId": "7cc25449-189d-489e-dd22-48b54e57bed1"
      },
      "source": [
        "print(\"hello\")"
      ],
      "execution_count": null,
      "outputs": [
        {
          "output_type": "stream",
          "text": [
            "hello\n"
          ],
          "name": "stdout"
        }
      ]
    },
    {
      "cell_type": "code",
      "metadata": {
        "colab": {
          "base_uri": "https://localhost:8080/",
          "height": 34
        },
        "id": "cya4mtTBNrB6",
        "outputId": "2294cee3-42c0-48e2-c0a3-5df155f4d9a4"
      },
      "source": [
        "import tensorflow as tf\n",
        "tf.test.gpu_device_name()"
      ],
      "execution_count": null,
      "outputs": [
        {
          "output_type": "execute_result",
          "data": {
            "application/vnd.google.colaboratory.intrinsic+json": {
              "type": "string"
            },
            "text/plain": [
              "'/device:GPU:0'"
            ]
          },
          "metadata": {
            "tags": []
          },
          "execution_count": 1
        }
      ]
    },
    {
      "cell_type": "code",
      "metadata": {
        "colab": {
          "base_uri": "https://localhost:8080/"
        },
        "id": "u99RLH67Okhg",
        "outputId": "3eb720ea-1ec6-4108-e65d-a4a3e68d3f66"
      },
      "source": [
        "from tensorflow.python.client import device_lib\n",
        "device_lib.list_local_devices()"
      ],
      "execution_count": null,
      "outputs": [
        {
          "output_type": "execute_result",
          "data": {
            "text/plain": [
              "[name: \"/device:CPU:0\"\n",
              " device_type: \"CPU\"\n",
              " memory_limit: 268435456\n",
              " locality {\n",
              " }\n",
              " incarnation: 6799962124059028946, name: \"/device:GPU:0\"\n",
              " device_type: \"GPU\"\n",
              " memory_limit: 14509932544\n",
              " locality {\n",
              "   bus_id: 1\n",
              "   links {\n",
              "   }\n",
              " }\n",
              " incarnation: 4655797693319136922\n",
              " physical_device_desc: \"device: 0, name: Tesla T4, pci bus id: 0000:00:04.0, compute capability: 7.5\"]"
            ]
          },
          "metadata": {
            "tags": []
          },
          "execution_count": 2
        }
      ]
    },
    {
      "cell_type": "code",
      "metadata": {
        "colab": {
          "base_uri": "https://localhost:8080/"
        },
        "id": "_UmMw5qHO8yh",
        "outputId": "705674df-51de-41aa-8364-e09997f4d199"
      },
      "source": [
        "!cat  /proc/meminfo"
      ],
      "execution_count": null,
      "outputs": [
        {
          "output_type": "stream",
          "text": [
            "MemTotal:       13305368 kB\n",
            "MemFree:         9455856 kB\n",
            "MemAvailable:   12060136 kB\n",
            "Buffers:           87356 kB\n",
            "Cached:          2511268 kB\n",
            "SwapCached:            0 kB\n",
            "Active:          1276880 kB\n",
            "Inactive:        2183264 kB\n",
            "Active(anon):     675196 kB\n",
            "Inactive(anon):    10672 kB\n",
            "Active(file):     601684 kB\n",
            "Inactive(file):  2172592 kB\n",
            "Unevictable:           0 kB\n",
            "Mlocked:               0 kB\n",
            "SwapTotal:             0 kB\n",
            "SwapFree:              0 kB\n",
            "Dirty:               144 kB\n",
            "Writeback:             0 kB\n",
            "AnonPages:        861428 kB\n",
            "Mapped:           599584 kB\n",
            "Shmem:             11408 kB\n",
            "KReclaimable:     142956 kB\n",
            "Slab:             200040 kB\n",
            "SReclaimable:     142956 kB\n",
            "SUnreclaim:        57084 kB\n",
            "KernelStack:        4960 kB\n",
            "PageTables:         8508 kB\n",
            "NFS_Unstable:          0 kB\n",
            "Bounce:                0 kB\n",
            "WritebackTmp:          0 kB\n",
            "CommitLimit:     6652684 kB\n",
            "Committed_AS:    3805080 kB\n",
            "VmallocTotal:   34359738367 kB\n",
            "VmallocUsed:       51148 kB\n",
            "VmallocChunk:          0 kB\n",
            "Percpu:             1424 kB\n",
            "AnonHugePages:         0 kB\n",
            "ShmemHugePages:        0 kB\n",
            "ShmemPmdMapped:        0 kB\n",
            "FileHugePages:         0 kB\n",
            "FilePmdMapped:         0 kB\n",
            "CmaTotal:              0 kB\n",
            "CmaFree:               0 kB\n",
            "HugePages_Total:       0\n",
            "HugePages_Free:        0\n",
            "HugePages_Rsvd:        0\n",
            "HugePages_Surp:        0\n",
            "Hugepagesize:       2048 kB\n",
            "Hugetlb:               0 kB\n",
            "DirectMap4k:      206024 kB\n",
            "DirectMap2M:     6084608 kB\n",
            "DirectMap1G:     9437184 kB\n"
          ],
          "name": "stdout"
        }
      ]
    },
    {
      "cell_type": "code",
      "metadata": {
        "colab": {
          "base_uri": "https://localhost:8080/"
        },
        "id": "hzwIv_9ePimt",
        "outputId": "054efbbd-7d9a-4a4c-e2df-1b95b5491e2e"
      },
      "source": [
        "!cat  /proc/cpuinfo"
      ],
      "execution_count": null,
      "outputs": [
        {
          "output_type": "stream",
          "text": [
            "processor\t: 0\n",
            "vendor_id\t: GenuineIntel\n",
            "cpu family\t: 6\n",
            "model\t\t: 79\n",
            "model name\t: Intel(R) Xeon(R) CPU @ 2.20GHz\n",
            "stepping\t: 0\n",
            "microcode\t: 0x1\n",
            "cpu MHz\t\t: 2199.998\n",
            "cache size\t: 56320 KB\n",
            "physical id\t: 0\n",
            "siblings\t: 2\n",
            "core id\t\t: 0\n",
            "cpu cores\t: 1\n",
            "apicid\t\t: 0\n",
            "initial apicid\t: 0\n",
            "fpu\t\t: yes\n",
            "fpu_exception\t: yes\n",
            "cpuid level\t: 13\n",
            "wp\t\t: yes\n",
            "flags\t\t: fpu vme de pse tsc msr pae mce cx8 apic sep mtrr pge mca cmov pat pse36 clflush mmx fxsr sse sse2 ss ht syscall nx pdpe1gb rdtscp lm constant_tsc rep_good nopl xtopology nonstop_tsc cpuid tsc_known_freq pni pclmulqdq ssse3 fma cx16 pcid sse4_1 sse4_2 x2apic movbe popcnt aes xsave avx f16c rdrand hypervisor lahf_lm abm 3dnowprefetch invpcid_single ssbd ibrs ibpb stibp fsgsbase tsc_adjust bmi1 hle avx2 smep bmi2 erms invpcid rtm rdseed adx smap xsaveopt arat md_clear arch_capabilities\n",
            "bugs\t\t: cpu_meltdown spectre_v1 spectre_v2 spec_store_bypass l1tf mds swapgs taa\n",
            "bogomips\t: 4399.99\n",
            "clflush size\t: 64\n",
            "cache_alignment\t: 64\n",
            "address sizes\t: 46 bits physical, 48 bits virtual\n",
            "power management:\n",
            "\n",
            "processor\t: 1\n",
            "vendor_id\t: GenuineIntel\n",
            "cpu family\t: 6\n",
            "model\t\t: 79\n",
            "model name\t: Intel(R) Xeon(R) CPU @ 2.20GHz\n",
            "stepping\t: 0\n",
            "microcode\t: 0x1\n",
            "cpu MHz\t\t: 2199.998\n",
            "cache size\t: 56320 KB\n",
            "physical id\t: 0\n",
            "siblings\t: 2\n",
            "core id\t\t: 0\n",
            "cpu cores\t: 1\n",
            "apicid\t\t: 1\n",
            "initial apicid\t: 1\n",
            "fpu\t\t: yes\n",
            "fpu_exception\t: yes\n",
            "cpuid level\t: 13\n",
            "wp\t\t: yes\n",
            "flags\t\t: fpu vme de pse tsc msr pae mce cx8 apic sep mtrr pge mca cmov pat pse36 clflush mmx fxsr sse sse2 ss ht syscall nx pdpe1gb rdtscp lm constant_tsc rep_good nopl xtopology nonstop_tsc cpuid tsc_known_freq pni pclmulqdq ssse3 fma cx16 pcid sse4_1 sse4_2 x2apic movbe popcnt aes xsave avx f16c rdrand hypervisor lahf_lm abm 3dnowprefetch invpcid_single ssbd ibrs ibpb stibp fsgsbase tsc_adjust bmi1 hle avx2 smep bmi2 erms invpcid rtm rdseed adx smap xsaveopt arat md_clear arch_capabilities\n",
            "bugs\t\t: cpu_meltdown spectre_v1 spectre_v2 spec_store_bypass l1tf mds swapgs taa\n",
            "bogomips\t: 4399.99\n",
            "clflush size\t: 64\n",
            "cache_alignment\t: 64\n",
            "address sizes\t: 46 bits physical, 48 bits virtual\n",
            "power management:\n",
            "\n"
          ],
          "name": "stdout"
        }
      ]
    },
    {
      "cell_type": "code",
      "metadata": {
        "id": "k27HiYPkPyGf"
      },
      "source": [
        "!pip install -q keras"
      ],
      "execution_count": null,
      "outputs": []
    },
    {
      "cell_type": "code",
      "metadata": {
        "id": "RdafTi93RYeJ"
      },
      "source": [
        "import pandas as pd"
      ],
      "execution_count": 7,
      "outputs": []
    },
    {
      "cell_type": "code",
      "metadata": {
        "id": "6Db5AK1mSsfO"
      },
      "source": [
        "import numpy as np\n",
        "import matplotlib.pyplot as plt\n"
      ],
      "execution_count": 8,
      "outputs": []
    },
    {
      "cell_type": "code",
      "metadata": {
        "id": "Zk4hkG--S_PM"
      },
      "source": [
        "dataset = pd.read_csv(\"/content/drive/MyDrive/Churn_Modelling.csv\")\n"
      ],
      "execution_count": 18,
      "outputs": []
    },
    {
      "cell_type": "code",
      "metadata": {
        "id": "liLK2uIOTH5p"
      },
      "source": [
        "X = dataset.iloc[:, 3:13]\n",
        "y = dataset.iloc[:, 13]"
      ],
      "execution_count": 19,
      "outputs": []
    },
    {
      "cell_type": "code",
      "metadata": {
        "id": "DWUH75mLTXzY"
      },
      "source": [
        "geography = pd.get_dummies(X[\"Geography\"], drop_first=True)\n",
        "gender = pd.get_dummies(X[\"Gender\"], drop_first=True)"
      ],
      "execution_count": 20,
      "outputs": []
    },
    {
      "cell_type": "code",
      "metadata": {
        "id": "TssAT_laTzBj"
      },
      "source": [
        "X = pd.concat([X, geography, gender],axis=1)"
      ],
      "execution_count": 21,
      "outputs": []
    },
    {
      "cell_type": "code",
      "metadata": {
        "id": "5utGu9PWUpbl"
      },
      "source": [
        "X = X.drop([\"Geography\", \"Gender\"], axis = 1)"
      ],
      "execution_count": 22,
      "outputs": []
    },
    {
      "cell_type": "code",
      "metadata": {
        "id": "2saCPZxwU6wW"
      },
      "source": [
        "from sklearn.model_selection import train_test_split\n",
        "X_train, X_test, y_train, y_test = train_test_split(X, y, test_size = 0.2, random_state=0)"
      ],
      "execution_count": 23,
      "outputs": []
    },
    {
      "cell_type": "code",
      "metadata": {
        "id": "zY0LQOPjVeBx"
      },
      "source": [
        "from sklearn.preprocessing import StandardScaler\n",
        "sc = StandardScaler()\n",
        "X_train = sc.fit_transform(X_train)\n",
        "X_test = sc.fit_transform(X_test)"
      ],
      "execution_count": 24,
      "outputs": []
    },
    {
      "cell_type": "code",
      "metadata": {
        "id": "RYQiSCgNXHar"
      },
      "source": [
        "import keras \n",
        "from keras.models import Sequential\n",
        "from keras.layers import Dense\n",
        "from keras.layers import Dropout"
      ],
      "execution_count": 25,
      "outputs": []
    },
    {
      "cell_type": "code",
      "metadata": {
        "id": "A9MENWRjXkkg"
      },
      "source": [
        "classifier = Sequential()\n"
      ],
      "execution_count": 26,
      "outputs": []
    },
    {
      "cell_type": "code",
      "metadata": {
        "id": "DOGmnn48Xrh4"
      },
      "source": [
        "classifier.add(Dense(units =6, kernel_initializer='he_normal', activation = 'relu', input_dim = 11))"
      ],
      "execution_count": 31,
      "outputs": []
    },
    {
      "cell_type": "code",
      "metadata": {
        "id": "eT7PsoGaaX3o"
      },
      "source": [
        "classifier.add(Dense(units =6, kernel_initializer = 'he_normal', activation='relu'))"
      ],
      "execution_count": 34,
      "outputs": []
    },
    {
      "cell_type": "code",
      "metadata": {
        "id": "_GswYoVia9aI"
      },
      "source": [
        "classifier.add(Dense(units = 1,kernel_initializer=\"glorot_uniform\", activation ='sigmoid' ))"
      ],
      "execution_count": 35,
      "outputs": []
    },
    {
      "cell_type": "code",
      "metadata": {
        "id": "tzLm97rlb-Wr"
      },
      "source": [
        "classifier.compile(optimizer=\"Adamax\", loss=\"binary_crossentropy\", metrics = ['accuracy'])"
      ],
      "execution_count": 37,
      "outputs": []
    },
    {
      "cell_type": "code",
      "metadata": {
        "colab": {
          "base_uri": "https://localhost:8080/"
        },
        "id": "lMuh5REUcTjv",
        "outputId": "9100553a-8caa-4717-bbe7-f6ca1c29a017"
      },
      "source": [
        "model_history = classifier.fit(X_train, y_train, validation_split= 0.33, batch_size=10, epochs=100 )"
      ],
      "execution_count": 39,
      "outputs": [
        {
          "output_type": "stream",
          "text": [
            "Epoch 1/100\n",
            "536/536 [==============================] - 16s 4ms/step - loss: 0.5661 - accuracy: 0.7783 - val_loss: 0.4960 - val_accuracy: 0.7955\n",
            "Epoch 2/100\n",
            "536/536 [==============================] - 2s 3ms/step - loss: 0.4886 - accuracy: 0.7991 - val_loss: 0.4829 - val_accuracy: 0.7955\n",
            "Epoch 3/100\n",
            "536/536 [==============================] - 2s 4ms/step - loss: 0.4708 - accuracy: 0.7996 - val_loss: 0.4697 - val_accuracy: 0.7955\n",
            "Epoch 4/100\n",
            "536/536 [==============================] - 2s 3ms/step - loss: 0.4535 - accuracy: 0.7979 - val_loss: 0.4616 - val_accuracy: 0.7978\n",
            "Epoch 5/100\n",
            "536/536 [==============================] - 2s 3ms/step - loss: 0.4439 - accuracy: 0.8059 - val_loss: 0.4569 - val_accuracy: 0.7986\n",
            "Epoch 6/100\n",
            "536/536 [==============================] - 2s 3ms/step - loss: 0.4353 - accuracy: 0.8151 - val_loss: 0.4533 - val_accuracy: 0.7986\n",
            "Epoch 7/100\n",
            "536/536 [==============================] - 2s 3ms/step - loss: 0.4347 - accuracy: 0.8153 - val_loss: 0.4500 - val_accuracy: 0.8035\n",
            "Epoch 8/100\n",
            "536/536 [==============================] - 2s 4ms/step - loss: 0.4308 - accuracy: 0.8175 - val_loss: 0.4471 - val_accuracy: 0.8042\n",
            "Epoch 9/100\n",
            "536/536 [==============================] - 2s 3ms/step - loss: 0.4331 - accuracy: 0.8174 - val_loss: 0.4451 - val_accuracy: 0.8076\n",
            "Epoch 10/100\n",
            "536/536 [==============================] - 2s 3ms/step - loss: 0.4305 - accuracy: 0.8244 - val_loss: 0.4429 - val_accuracy: 0.8103\n",
            "Epoch 11/100\n",
            "536/536 [==============================] - 2s 4ms/step - loss: 0.4269 - accuracy: 0.8194 - val_loss: 0.4413 - val_accuracy: 0.8092\n",
            "Epoch 12/100\n",
            "536/536 [==============================] - 2s 3ms/step - loss: 0.4174 - accuracy: 0.8301 - val_loss: 0.4398 - val_accuracy: 0.8107\n",
            "Epoch 13/100\n",
            "536/536 [==============================] - 2s 3ms/step - loss: 0.4227 - accuracy: 0.8241 - val_loss: 0.4385 - val_accuracy: 0.8133\n",
            "Epoch 14/100\n",
            "536/536 [==============================] - 2s 4ms/step - loss: 0.4212 - accuracy: 0.8235 - val_loss: 0.4372 - val_accuracy: 0.8133\n",
            "Epoch 15/100\n",
            "536/536 [==============================] - 2s 3ms/step - loss: 0.4236 - accuracy: 0.8225 - val_loss: 0.4359 - val_accuracy: 0.8152\n",
            "Epoch 16/100\n",
            "536/536 [==============================] - 2s 4ms/step - loss: 0.4278 - accuracy: 0.8199 - val_loss: 0.4350 - val_accuracy: 0.8164\n",
            "Epoch 17/100\n",
            "536/536 [==============================] - 2s 3ms/step - loss: 0.4034 - accuracy: 0.8354 - val_loss: 0.4342 - val_accuracy: 0.8171\n",
            "Epoch 18/100\n",
            "536/536 [==============================] - 2s 4ms/step - loss: 0.4097 - accuracy: 0.8283 - val_loss: 0.4334 - val_accuracy: 0.8201\n",
            "Epoch 19/100\n",
            "536/536 [==============================] - 2s 4ms/step - loss: 0.4010 - accuracy: 0.8343 - val_loss: 0.4330 - val_accuracy: 0.8205\n",
            "Epoch 20/100\n",
            "536/536 [==============================] - 2s 3ms/step - loss: 0.4080 - accuracy: 0.8287 - val_loss: 0.4322 - val_accuracy: 0.8209\n",
            "Epoch 21/100\n",
            "536/536 [==============================] - 2s 3ms/step - loss: 0.4075 - accuracy: 0.8235 - val_loss: 0.4313 - val_accuracy: 0.8228\n",
            "Epoch 22/100\n",
            "536/536 [==============================] - 2s 4ms/step - loss: 0.4110 - accuracy: 0.8246 - val_loss: 0.4307 - val_accuracy: 0.8220\n",
            "Epoch 23/100\n",
            "536/536 [==============================] - 2s 3ms/step - loss: 0.4252 - accuracy: 0.8160 - val_loss: 0.4299 - val_accuracy: 0.8220\n",
            "Epoch 24/100\n",
            "536/536 [==============================] - 2s 4ms/step - loss: 0.4057 - accuracy: 0.8325 - val_loss: 0.4294 - val_accuracy: 0.8220\n",
            "Epoch 25/100\n",
            "536/536 [==============================] - 2s 4ms/step - loss: 0.4135 - accuracy: 0.8260 - val_loss: 0.4287 - val_accuracy: 0.8213\n",
            "Epoch 26/100\n",
            "536/536 [==============================] - 2s 3ms/step - loss: 0.4028 - accuracy: 0.8313 - val_loss: 0.4278 - val_accuracy: 0.8224\n",
            "Epoch 27/100\n",
            "536/536 [==============================] - 2s 4ms/step - loss: 0.4079 - accuracy: 0.8321 - val_loss: 0.4275 - val_accuracy: 0.8224\n",
            "Epoch 28/100\n",
            "536/536 [==============================] - 2s 4ms/step - loss: 0.3964 - accuracy: 0.8367 - val_loss: 0.4267 - val_accuracy: 0.8251\n",
            "Epoch 29/100\n",
            "536/536 [==============================] - 2s 4ms/step - loss: 0.4148 - accuracy: 0.8312 - val_loss: 0.4266 - val_accuracy: 0.8251\n",
            "Epoch 30/100\n",
            "536/536 [==============================] - 2s 3ms/step - loss: 0.4136 - accuracy: 0.8284 - val_loss: 0.4263 - val_accuracy: 0.8239\n",
            "Epoch 31/100\n",
            "536/536 [==============================] - 2s 3ms/step - loss: 0.4001 - accuracy: 0.8362 - val_loss: 0.4254 - val_accuracy: 0.8254\n",
            "Epoch 32/100\n",
            "536/536 [==============================] - 2s 4ms/step - loss: 0.4043 - accuracy: 0.8341 - val_loss: 0.4248 - val_accuracy: 0.8243\n",
            "Epoch 33/100\n",
            "536/536 [==============================] - 2s 4ms/step - loss: 0.3984 - accuracy: 0.8348 - val_loss: 0.4246 - val_accuracy: 0.8243\n",
            "Epoch 34/100\n",
            "536/536 [==============================] - 2s 4ms/step - loss: 0.4041 - accuracy: 0.8394 - val_loss: 0.4246 - val_accuracy: 0.8262\n",
            "Epoch 35/100\n",
            "536/536 [==============================] - 2s 3ms/step - loss: 0.4029 - accuracy: 0.8344 - val_loss: 0.4235 - val_accuracy: 0.8247\n",
            "Epoch 36/100\n",
            "536/536 [==============================] - 2s 3ms/step - loss: 0.4122 - accuracy: 0.8291 - val_loss: 0.4234 - val_accuracy: 0.8266\n",
            "Epoch 37/100\n",
            "536/536 [==============================] - 2s 4ms/step - loss: 0.3997 - accuracy: 0.8360 - val_loss: 0.4229 - val_accuracy: 0.8266\n",
            "Epoch 38/100\n",
            "536/536 [==============================] - 2s 3ms/step - loss: 0.4185 - accuracy: 0.8274 - val_loss: 0.4233 - val_accuracy: 0.8270\n",
            "Epoch 39/100\n",
            "536/536 [==============================] - 2s 4ms/step - loss: 0.4135 - accuracy: 0.8303 - val_loss: 0.4228 - val_accuracy: 0.8273\n",
            "Epoch 40/100\n",
            "536/536 [==============================] - 2s 3ms/step - loss: 0.3914 - accuracy: 0.8435 - val_loss: 0.4226 - val_accuracy: 0.8285\n",
            "Epoch 41/100\n",
            "536/536 [==============================] - 2s 3ms/step - loss: 0.4157 - accuracy: 0.8292 - val_loss: 0.4223 - val_accuracy: 0.8277\n",
            "Epoch 42/100\n",
            "536/536 [==============================] - 2s 3ms/step - loss: 0.4052 - accuracy: 0.8321 - val_loss: 0.4218 - val_accuracy: 0.8281\n",
            "Epoch 43/100\n",
            "536/536 [==============================] - 2s 4ms/step - loss: 0.4102 - accuracy: 0.8345 - val_loss: 0.4219 - val_accuracy: 0.8266\n",
            "Epoch 44/100\n",
            "536/536 [==============================] - 2s 3ms/step - loss: 0.3983 - accuracy: 0.8373 - val_loss: 0.4223 - val_accuracy: 0.8273\n",
            "Epoch 45/100\n",
            "536/536 [==============================] - 2s 4ms/step - loss: 0.4172 - accuracy: 0.8285 - val_loss: 0.4209 - val_accuracy: 0.8304\n",
            "Epoch 46/100\n",
            "536/536 [==============================] - 2s 4ms/step - loss: 0.4181 - accuracy: 0.8267 - val_loss: 0.4213 - val_accuracy: 0.8292\n",
            "Epoch 47/100\n",
            "536/536 [==============================] - 2s 3ms/step - loss: 0.3899 - accuracy: 0.8439 - val_loss: 0.4209 - val_accuracy: 0.8296\n",
            "Epoch 48/100\n",
            "536/536 [==============================] - 2s 3ms/step - loss: 0.4041 - accuracy: 0.8364 - val_loss: 0.4203 - val_accuracy: 0.8296\n",
            "Epoch 49/100\n",
            "536/536 [==============================] - 2s 3ms/step - loss: 0.3901 - accuracy: 0.8398 - val_loss: 0.4205 - val_accuracy: 0.8281\n",
            "Epoch 50/100\n",
            "536/536 [==============================] - 2s 4ms/step - loss: 0.4000 - accuracy: 0.8365 - val_loss: 0.4197 - val_accuracy: 0.8296\n",
            "Epoch 51/100\n",
            "536/536 [==============================] - 2s 3ms/step - loss: 0.3938 - accuracy: 0.8375 - val_loss: 0.4191 - val_accuracy: 0.8304\n",
            "Epoch 52/100\n",
            "536/536 [==============================] - 2s 4ms/step - loss: 0.3888 - accuracy: 0.8397 - val_loss: 0.4187 - val_accuracy: 0.8292\n",
            "Epoch 53/100\n",
            "536/536 [==============================] - 2s 4ms/step - loss: 0.4034 - accuracy: 0.8344 - val_loss: 0.4185 - val_accuracy: 0.8296\n",
            "Epoch 54/100\n",
            "536/536 [==============================] - 2s 3ms/step - loss: 0.3841 - accuracy: 0.8423 - val_loss: 0.4178 - val_accuracy: 0.8296\n",
            "Epoch 55/100\n",
            "536/536 [==============================] - 2s 4ms/step - loss: 0.3921 - accuracy: 0.8389 - val_loss: 0.4177 - val_accuracy: 0.8281\n",
            "Epoch 56/100\n",
            "536/536 [==============================] - 2s 4ms/step - loss: 0.3981 - accuracy: 0.8362 - val_loss: 0.4173 - val_accuracy: 0.8289\n",
            "Epoch 57/100\n",
            "536/536 [==============================] - 2s 4ms/step - loss: 0.3798 - accuracy: 0.8454 - val_loss: 0.4168 - val_accuracy: 0.8281\n",
            "Epoch 58/100\n",
            "536/536 [==============================] - 2s 4ms/step - loss: 0.3901 - accuracy: 0.8433 - val_loss: 0.4165 - val_accuracy: 0.8289\n",
            "Epoch 59/100\n",
            "536/536 [==============================] - 2s 4ms/step - loss: 0.3945 - accuracy: 0.8391 - val_loss: 0.4163 - val_accuracy: 0.8273\n",
            "Epoch 60/100\n",
            "536/536 [==============================] - 2s 4ms/step - loss: 0.3897 - accuracy: 0.8434 - val_loss: 0.4158 - val_accuracy: 0.8285\n",
            "Epoch 61/100\n",
            "536/536 [==============================] - 2s 3ms/step - loss: 0.3896 - accuracy: 0.8411 - val_loss: 0.4153 - val_accuracy: 0.8285\n",
            "Epoch 62/100\n",
            "536/536 [==============================] - 2s 4ms/step - loss: 0.4002 - accuracy: 0.8361 - val_loss: 0.4149 - val_accuracy: 0.8281\n",
            "Epoch 63/100\n",
            "536/536 [==============================] - 2s 4ms/step - loss: 0.3936 - accuracy: 0.8353 - val_loss: 0.4139 - val_accuracy: 0.8281\n",
            "Epoch 64/100\n",
            "536/536 [==============================] - 2s 4ms/step - loss: 0.3793 - accuracy: 0.8481 - val_loss: 0.4136 - val_accuracy: 0.8281\n",
            "Epoch 65/100\n",
            "536/536 [==============================] - 2s 3ms/step - loss: 0.3842 - accuracy: 0.8460 - val_loss: 0.4140 - val_accuracy: 0.8281\n",
            "Epoch 66/100\n",
            "536/536 [==============================] - 2s 3ms/step - loss: 0.3781 - accuracy: 0.8463 - val_loss: 0.4121 - val_accuracy: 0.8292\n",
            "Epoch 67/100\n",
            "536/536 [==============================] - 2s 3ms/step - loss: 0.4024 - accuracy: 0.8290 - val_loss: 0.4132 - val_accuracy: 0.8300\n",
            "Epoch 68/100\n",
            "536/536 [==============================] - 2s 4ms/step - loss: 0.3814 - accuracy: 0.8452 - val_loss: 0.4107 - val_accuracy: 0.8296\n",
            "Epoch 69/100\n",
            "536/536 [==============================] - 2s 3ms/step - loss: 0.3961 - accuracy: 0.8298 - val_loss: 0.4105 - val_accuracy: 0.8300\n",
            "Epoch 70/100\n",
            "536/536 [==============================] - 2s 3ms/step - loss: 0.3805 - accuracy: 0.8407 - val_loss: 0.4097 - val_accuracy: 0.8285\n",
            "Epoch 71/100\n",
            "536/536 [==============================] - 2s 3ms/step - loss: 0.3836 - accuracy: 0.8408 - val_loss: 0.4085 - val_accuracy: 0.8315\n",
            "Epoch 72/100\n",
            "536/536 [==============================] - 2s 4ms/step - loss: 0.3886 - accuracy: 0.8410 - val_loss: 0.4087 - val_accuracy: 0.8307\n",
            "Epoch 73/100\n",
            "536/536 [==============================] - 2s 3ms/step - loss: 0.3841 - accuracy: 0.8408 - val_loss: 0.4073 - val_accuracy: 0.8315\n",
            "Epoch 74/100\n",
            "536/536 [==============================] - 2s 4ms/step - loss: 0.3804 - accuracy: 0.8432 - val_loss: 0.4073 - val_accuracy: 0.8300\n",
            "Epoch 75/100\n",
            "536/536 [==============================] - 2s 4ms/step - loss: 0.3723 - accuracy: 0.8438 - val_loss: 0.4058 - val_accuracy: 0.8307\n",
            "Epoch 76/100\n",
            "536/536 [==============================] - 2s 4ms/step - loss: 0.3716 - accuracy: 0.8455 - val_loss: 0.4057 - val_accuracy: 0.8296\n",
            "Epoch 77/100\n",
            "536/536 [==============================] - 2s 4ms/step - loss: 0.3695 - accuracy: 0.8498 - val_loss: 0.4048 - val_accuracy: 0.8296\n",
            "Epoch 78/100\n",
            "536/536 [==============================] - 2s 4ms/step - loss: 0.3765 - accuracy: 0.8480 - val_loss: 0.4035 - val_accuracy: 0.8315\n",
            "Epoch 79/100\n",
            "536/536 [==============================] - 2s 3ms/step - loss: 0.3810 - accuracy: 0.8410 - val_loss: 0.4036 - val_accuracy: 0.8311\n",
            "Epoch 80/100\n",
            "536/536 [==============================] - 2s 3ms/step - loss: 0.3672 - accuracy: 0.8499 - val_loss: 0.4023 - val_accuracy: 0.8323\n",
            "Epoch 81/100\n",
            "536/536 [==============================] - 2s 4ms/step - loss: 0.3814 - accuracy: 0.8448 - val_loss: 0.4016 - val_accuracy: 0.8323\n",
            "Epoch 82/100\n",
            "536/536 [==============================] - 2s 4ms/step - loss: 0.3718 - accuracy: 0.8418 - val_loss: 0.4009 - val_accuracy: 0.8304\n",
            "Epoch 83/100\n",
            "536/536 [==============================] - 2s 4ms/step - loss: 0.3788 - accuracy: 0.8442 - val_loss: 0.4002 - val_accuracy: 0.8311\n",
            "Epoch 84/100\n",
            "536/536 [==============================] - 2s 4ms/step - loss: 0.3874 - accuracy: 0.8335 - val_loss: 0.3993 - val_accuracy: 0.8338\n",
            "Epoch 85/100\n",
            "536/536 [==============================] - 2s 3ms/step - loss: 0.3608 - accuracy: 0.8511 - val_loss: 0.3989 - val_accuracy: 0.8300\n",
            "Epoch 86/100\n",
            "536/536 [==============================] - 2s 3ms/step - loss: 0.3788 - accuracy: 0.8423 - val_loss: 0.3973 - val_accuracy: 0.8300\n",
            "Epoch 87/100\n",
            "536/536 [==============================] - 2s 3ms/step - loss: 0.3739 - accuracy: 0.8455 - val_loss: 0.3976 - val_accuracy: 0.8300\n",
            "Epoch 88/100\n",
            "536/536 [==============================] - 2s 4ms/step - loss: 0.3744 - accuracy: 0.8403 - val_loss: 0.3958 - val_accuracy: 0.8342\n",
            "Epoch 89/100\n",
            "536/536 [==============================] - 2s 4ms/step - loss: 0.3618 - accuracy: 0.8509 - val_loss: 0.3953 - val_accuracy: 0.8315\n",
            "Epoch 90/100\n",
            "536/536 [==============================] - 2s 4ms/step - loss: 0.3821 - accuracy: 0.8345 - val_loss: 0.3942 - val_accuracy: 0.8330\n",
            "Epoch 91/100\n",
            "536/536 [==============================] - 2s 4ms/step - loss: 0.3759 - accuracy: 0.8405 - val_loss: 0.3932 - val_accuracy: 0.8334\n",
            "Epoch 92/100\n",
            "536/536 [==============================] - 2s 4ms/step - loss: 0.3832 - accuracy: 0.8314 - val_loss: 0.3921 - val_accuracy: 0.8349\n",
            "Epoch 93/100\n",
            "536/536 [==============================] - 2s 4ms/step - loss: 0.3761 - accuracy: 0.8383 - val_loss: 0.3907 - val_accuracy: 0.8372\n",
            "Epoch 94/100\n",
            "536/536 [==============================] - 2s 3ms/step - loss: 0.3649 - accuracy: 0.8459 - val_loss: 0.3900 - val_accuracy: 0.8349\n",
            "Epoch 95/100\n",
            "536/536 [==============================] - 2s 4ms/step - loss: 0.3569 - accuracy: 0.8571 - val_loss: 0.3887 - val_accuracy: 0.8364\n",
            "Epoch 96/100\n",
            "536/536 [==============================] - 2s 3ms/step - loss: 0.3568 - accuracy: 0.8498 - val_loss: 0.3891 - val_accuracy: 0.8364\n",
            "Epoch 97/100\n",
            "536/536 [==============================] - 2s 3ms/step - loss: 0.3767 - accuracy: 0.8373 - val_loss: 0.3866 - val_accuracy: 0.8379\n",
            "Epoch 98/100\n",
            "536/536 [==============================] - 2s 3ms/step - loss: 0.3596 - accuracy: 0.8444 - val_loss: 0.3864 - val_accuracy: 0.8387\n",
            "Epoch 99/100\n",
            "536/536 [==============================] - 2s 3ms/step - loss: 0.3550 - accuracy: 0.8462 - val_loss: 0.3852 - val_accuracy: 0.8406\n",
            "Epoch 100/100\n",
            "536/536 [==============================] - 2s 3ms/step - loss: 0.3625 - accuracy: 0.8460 - val_loss: 0.3840 - val_accuracy: 0.8398\n"
          ],
          "name": "stdout"
        }
      ]
    },
    {
      "cell_type": "code",
      "metadata": {
        "colab": {
          "base_uri": "https://localhost:8080/",
          "height": 311
        },
        "id": "-__pkcCaczOF",
        "outputId": "8bac43de-4d36-49ac-eaae-93c160219439"
      },
      "source": [
        "print(model_history.history.keys())\n",
        "plt.plot(model_history.history['accuracy'])\n",
        "plt.plot(model_history.history['val_accuracy'])\n",
        "plt.title('model_accruacy')\n",
        "plt.ylabel('accuracy')\n",
        "plt.xlabel(\"epoch\")\n",
        "plt.legend(['train', 'test'], loc='upper left')\n",
        "plt.show()"
      ],
      "execution_count": 48,
      "outputs": [
        {
          "output_type": "stream",
          "text": [
            "dict_keys(['loss', 'accuracy', 'val_loss', 'val_accuracy'])\n"
          ],
          "name": "stdout"
        },
        {
          "output_type": "display_data",
          "data": {
            "image/png": "[encoded data removed]",
            "text/plain": [
              "<Figure size 432x288 with 1 Axes>"
            ]
          },
          "metadata": {
            "tags": [],
            "needs_background": "light"
          }
        }
      ]
    },
    {
      "cell_type": "code",
      "metadata": {
        "colab": {
          "base_uri": "https://localhost:8080/"
        },
        "id": "WCMNptJyfDSd",
        "outputId": "c5bce46c-e58a-4f11-850f-11a0b7a69366"
      },
      "source": [
        "y_pred = classifier.predict(X_test)\n",
        "y_pred = (y_pred > 0.5)\n",
        "\n",
        "from sklearn.metrics import confusion_matrix\n",
        "cm = confusion_matrix(y_test, y_pred)\n",
        "cm"
      ],
      "execution_count": 52,
      "outputs": [
        {
          "output_type": "execute_result",
          "data": {
            "text/plain": [
              "array([[1518,   77],\n",
              "       [ 237,  168]])"
            ]
          },
          "metadata": {
            "tags": []
          },
          "execution_count": 52
        }
      ]
    },
    {
      "cell_type": "code",
      "metadata": {
        "id": "QtW2Pcosf8ZL"
      },
      "source": [
        "from sklearn.metrics import accuracy_score\n",
        "score = accuracy_score(y_pred, y_test)"
      ],
      "execution_count": 50,
      "outputs": []
    },
    {
      "cell_type": "code",
      "metadata": {
        "colab": {
          "base_uri": "https://localhost:8080/"
        },
        "id": "0zFEn0eCgK0a",
        "outputId": "fc76d287-e6df-4a4a-8d5a-1507ec0d3903"
      },
      "source": [
        "score"
      ],
      "execution_count": 51,
      "outputs": [
        {
          "output_type": "execute_result",
          "data": {
            "text/plain": [
              "0.843"
            ]
          },
          "metadata": {
            "tags": []
          },
          "execution_count": 51
        }
      ]
    },
    {
      "cell_type": "code",
      "metadata": {
        "id": "jggF7IH3iFf4"
      },
      "source": [
        ""
      ],
      "execution_count": null,
      "outputs": []
    }
  ]
}